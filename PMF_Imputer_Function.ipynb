{
  "nbformat": 4,
  "nbformat_minor": 0,
  "metadata": {
    "colab": {
      "provenance": [],
      "authorship_tag": "ABX9TyPnWhKnVxB3HGFzq6XqpmtL",
      "include_colab_link": true
    },
    "kernelspec": {
      "name": "python3",
      "display_name": "Python 3"
    },
    "language_info": {
      "name": "python"
    }
  },
  "cells": [
    {
      "cell_type": "markdown",
      "metadata": {
        "id": "view-in-github",
        "colab_type": "text"
      },
      "source": [
        "<a href=\"https://colab.research.google.com/github/mmfara/Adversarial-Debiasing-Enhanced/blob/main/PMF_Imputer_Function.ipynb\" target=\"_parent\"><img src=\"https://colab.research.google.com/assets/colab-badge.svg\" alt=\"Open In Colab\"/></a>"
      ]
    },
    {
      "cell_type": "markdown",
      "source": [
        "## 🔍 What is PMF (Probability Mass Function)?\n",
        "\n",
        "**PMF** stands for **Probability Mass Function**. It's a statistical function that gives the **probability of each unique value** of a **categorical** variable.\n",
        "\n",
        "### 📦 In the context of data imputation:\n",
        "\n",
        "PMF represents the **relative frequencies** of the non-missing values in a column — we use these to **randomly fill in missing values**.\n",
        "\n",
        "---\n",
        "\n",
        "### 🧠 Example\n",
        "\n",
        "Let's say we have a column `\"occupation\"` with the following values:\n",
        "\n",
        "| Occupation       | Count |\n",
        "|------------------|-------|\n",
        "| Tech-support     | 30    |\n",
        "| Sales            | 50    |\n",
        "| Exec-managerial  | 20    |\n",
        "\n",
        "We compute the PMF as:\n",
        "\n",
        "| Occupation       | Probability |\n",
        "|------------------|-------------|\n",
        "| Tech-support     | 30 / 100 = 0.30 |\n",
        "| Sales            | 50 / 100 = 0.50 |\n",
        "| Exec-managerial  | 20 / 100 = 0.20 |\n",
        "\n",
        "So if a value is missing, we randomly sample one using these probabilities:\n",
        "- 30% chance → `Tech-support`\n",
        "- 50% chance → `Sales`\n",
        "- 20% chance → `Exec-managerial`\n",
        "\n",
        "---\n",
        "\n",
        "### ✅ Why Use PMF for Imputation?\n",
        "\n",
        "- 🔁 **Preserves distribution** of real values.\n",
        "- 🧑🏽‍🤝‍🧑🏿 **Group-aware**: If used with protected attributes (like `race`, `gender`), it respects fairness by using **group-specific** distributions.\n",
        "- 📊 Better than just using `mode` or `mean`, especially when fairness matters.\n",
        "\n",
        "---\n",
        "\n",
        "### 💡 Bonus: PMF vs Other Imputation\n",
        "\n",
        "| Method        | Handles Categorical | Group-Aware | Keeps Distribution |\n",
        "|---------------|----------------------|--------------|---------------------|\n",
        "| Mode          | ✅                   | ❌           | ❌                  |\n",
        "| Mean (numeric only) | ❌             | ❌           | ❌                  |\n",
        "| PMF Sampling  | ✅                   | ✅           | ✅                  |\n",
        "\n",
        "---\n",
        "\n",
        "Use PMF-based sampling when your goal is **statistically sound** and **fair** imputation of missing categorical data!\n"
      ],
      "metadata": {
        "id": "I7XyB-05Zf-X"
      }
    },
    {
      "cell_type": "code",
      "execution_count": null,
      "metadata": {
        "id": "E7HBEeDAWKIS"
      },
      "outputs": [],
      "source": [
        "import numpy as np\n",
        "import pandas as pd\n",
        "\n",
        "def fill_na_groupwise_PMF(df, columns, groupby_cols, missing_values=['?', np.nan]):\n",
        "    \"\"\"\n",
        "    Fill missing values in one or more columns using group-wise PMF-based sampling.\n",
        "\n",
        "    Parameters:\n",
        "        df (pd.DataFrame): The input dataframe.\n",
        "        columns (str or list): Column(s) to impute.\n",
        "        groupby_cols (str or list): Column(s) to group by (protected attributes).\n",
        "        missing_values (list): Values to consider as missing (e.g., ['?', np.nan]).\n",
        "\n",
        "    Returns:\n",
        "        pd.DataFrame: A copy of the dataframe with imputed values.\n",
        "    \"\"\"\n",
        "    df = df.copy()\n",
        "\n",
        "    if isinstance(columns, str):\n",
        "        columns = [columns]\n",
        "    if isinstance(groupby_cols, str):\n",
        "        groupby_cols = [groupby_cols]\n",
        "\n",
        "    for col in columns:\n",
        "        df[col] = df[col].replace(missing_values, np.nan)\n",
        "\n",
        "        # Group by the specified protected attributes\n",
        "        grouped = df.groupby(groupby_cols)\n",
        "\n",
        "        for group_keys, _ in grouped:\n",
        "            if not isinstance(group_keys, tuple):\n",
        "                group_keys = (group_keys,)\n",
        "\n",
        "            mask = np.ones(len(df), dtype=bool)\n",
        "            for col_name, val in zip(groupby_cols, group_keys):\n",
        "                mask &= df[col_name] == val\n",
        "\n",
        "            na_mask = mask & df[col].isna()\n",
        "            value_counts = df.loc[mask & df[col].notna(), col].value_counts(normalize=True)\n",
        "\n",
        "            if value_counts.empty:\n",
        "                continue\n",
        "\n",
        "            sampled = np.random.choice(value_counts.index, size=na_mask.sum(), p=value_counts.values)\n",
        "            df.loc[na_mask, col] = sampled\n",
        "\n",
        "    return df\n"
      ]
    },
    {
      "cell_type": "markdown",
      "source": [
        "####1. For a single protected attribute (e.g., race):"
      ],
      "metadata": {
        "id": "M1bszQINXrNa"
      }
    },
    {
      "cell_type": "code",
      "source": [
        "df_filled = fill_na_groupwise_PMF(df, columns=['occupation'], groupby_cols='race')"
      ],
      "metadata": {
        "id": "DsS_lhGrXv71"
      },
      "execution_count": null,
      "outputs": []
    },
    {
      "cell_type": "markdown",
      "source": [
        "####2. For intersectional protected attributes (e.g., race + sex):"
      ],
      "metadata": {
        "id": "y0YRvVjxX1X-"
      }
    },
    {
      "cell_type": "code",
      "source": [
        "df_filled = fill_na_groupwise_PMF(df, columns=['occupation', 'workclass'], groupby_cols=['race', 'sex'])"
      ],
      "metadata": {
        "id": "6V3LK0KuX5sg"
      },
      "execution_count": null,
      "outputs": []
    },
    {
      "cell_type": "markdown",
      "source": [
        "####3. With custom missing values:"
      ],
      "metadata": {
        "id": "hHwd43h4X-d7"
      }
    },
    {
      "cell_type": "code",
      "source": [
        "df_filled = fill_na_groupwise_PMF(df, columns='native.country', groupby_cols='race', missing_values=['?', 'Unknown', np.nan])"
      ],
      "metadata": {
        "id": "2EQiA1gPX_wQ"
      },
      "execution_count": null,
      "outputs": []
    }
  ]
}